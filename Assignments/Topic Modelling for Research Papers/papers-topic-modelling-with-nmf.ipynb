{
 "cells": [
  {
   "cell_type": "code",
   "execution_count": 1,
   "id": "1c4605e0",
   "metadata": {
    "_cell_guid": "b1076dfc-b9ad-4769-8c92-a6c4dae69d19",
    "_uuid": "8f2839f25d086af736a60e9eeb907d3b93b6e0e5",
    "execution": {
     "iopub.execute_input": "2022-03-06T09:13:05.835635Z",
     "iopub.status.busy": "2022-03-06T09:13:05.833910Z",
     "iopub.status.idle": "2022-03-06T09:13:07.587855Z",
     "shell.execute_reply": "2022-03-06T09:13:07.586710Z",
     "shell.execute_reply.started": "2022-03-06T09:06:10.343262Z"
    },
    "papermill": {
     "duration": 1.788475,
     "end_time": "2022-03-06T09:13:07.588032",
     "exception": false,
     "start_time": "2022-03-06T09:13:05.799557",
     "status": "completed"
    },
    "tags": []
   },
   "outputs": [],
   "source": [
    "import pandas as pd\n",
    "import numpy as np\n",
    "import seaborn as sns\n",
    "import matplotlib.pyplot as plt\n",
    "import operator\n",
    "\n",
    "import re\n",
    "import nltk\n",
    "from nltk import tokenize\n",
    "from nltk.stem import WordNetLemmatizer\n",
    "\n",
    "from sklearn.feature_extraction.text import CountVectorizer, TfidfTransformer, TfidfVectorizer\n",
    "from sklearn.decomposition import NMF\n",
    "from sklearn.preprocessing import normalize\n",
    "\n",
    "stopwords = nltk.corpus.stopwords.words('english') + [chr(i) for i in range(ord('a'), ord('z') + 1)]"
   ]
  },
  {
   "cell_type": "code",
   "execution_count": 2,
   "id": "775dcca3",
   "metadata": {
    "execution": {
     "iopub.execute_input": "2022-03-06T09:13:07.649926Z",
     "iopub.status.busy": "2022-03-06T09:13:07.648962Z",
     "iopub.status.idle": "2022-03-06T09:13:07.655033Z",
     "shell.execute_reply": "2022-03-06T09:13:07.655471Z",
     "shell.execute_reply.started": "2022-03-06T09:08:37.541129Z"
    },
    "papermill": {
     "duration": 0.037361,
     "end_time": "2022-03-06T09:13:07.655645",
     "exception": false,
     "start_time": "2022-03-06T09:13:07.618284",
     "status": "completed"
    },
    "tags": []
   },
   "outputs": [],
   "source": [
    "LEMMATIZER = WordNetLemmatizer()\n",
    "\n",
    "def get_cleaned_text(text):\n",
    "    \"\"\"basic cleaning\n",
    "        - lower case\n",
    "        - keep alpha only\n",
    "        - remove stop words\n",
    "        - lemmatize?\n",
    "    \"\"\"\n",
    "    text = text.lower()\n",
    "    text = re.sub(\"[^a-z]\", \" \", text)\n",
    "    text = ' '.join([word for word in text.split() if word not in stopwords])\n",
    "    text = ' '.join([LEMMATIZER.lemmatize(token) for token in tokenize.word_tokenize(text)])\n",
    "    \n",
    "    return text"
   ]
  },
  {
   "cell_type": "code",
   "execution_count": 3,
   "id": "f9eedf6b",
   "metadata": {
    "execution": {
     "iopub.execute_input": "2022-03-06T09:13:07.715306Z",
     "iopub.status.busy": "2022-03-06T09:13:07.714372Z",
     "iopub.status.idle": "2022-03-06T09:13:11.552254Z",
     "shell.execute_reply": "2022-03-06T09:13:11.552747Z",
     "shell.execute_reply.started": "2022-03-06T09:08:26.313232Z"
    },
    "papermill": {
     "duration": 3.86959,
     "end_time": "2022-03-06T09:13:11.552910",
     "exception": false,
     "start_time": "2022-03-06T09:13:07.683320",
     "status": "completed"
    },
    "tags": []
   },
   "outputs": [
    {
     "data": {
      "text/html": [
       "<div>\n",
       "<style scoped>\n",
       "    .dataframe tbody tr th:only-of-type {\n",
       "        vertical-align: middle;\n",
       "    }\n",
       "\n",
       "    .dataframe tbody tr th {\n",
       "        vertical-align: top;\n",
       "    }\n",
       "\n",
       "    .dataframe thead th {\n",
       "        text-align: right;\n",
       "    }\n",
       "</style>\n",
       "<table border=\"1\" class=\"dataframe\">\n",
       "  <thead>\n",
       "    <tr style=\"text-align: right;\">\n",
       "      <th></th>\n",
       "      <th>id</th>\n",
       "      <th>year</th>\n",
       "      <th>title</th>\n",
       "      <th>event_type</th>\n",
       "      <th>pdf_name</th>\n",
       "      <th>abstract</th>\n",
       "      <th>paper_text</th>\n",
       "    </tr>\n",
       "  </thead>\n",
       "  <tbody>\n",
       "    <tr>\n",
       "      <th>0</th>\n",
       "      <td>1</td>\n",
       "      <td>1987</td>\n",
       "      <td>Self-Organization of Associative Database and ...</td>\n",
       "      <td>NaN</td>\n",
       "      <td>1-self-organization-of-associative-database-an...</td>\n",
       "      <td>Abstract Missing</td>\n",
       "      <td>767\\n\\nSELF-ORGANIZATION OF ASSOCIATIVE DATABA...</td>\n",
       "    </tr>\n",
       "    <tr>\n",
       "      <th>1</th>\n",
       "      <td>10</td>\n",
       "      <td>1987</td>\n",
       "      <td>A Mean Field Theory of Layer IV of Visual Cort...</td>\n",
       "      <td>NaN</td>\n",
       "      <td>10-a-mean-field-theory-of-layer-iv-of-visual-c...</td>\n",
       "      <td>Abstract Missing</td>\n",
       "      <td>683\\n\\nA MEAN FIELD THEORY OF LAYER IV OF VISU...</td>\n",
       "    </tr>\n",
       "    <tr>\n",
       "      <th>2</th>\n",
       "      <td>100</td>\n",
       "      <td>1988</td>\n",
       "      <td>Storing Covariance by the Associative Long-Ter...</td>\n",
       "      <td>NaN</td>\n",
       "      <td>100-storing-covariance-by-the-associative-long...</td>\n",
       "      <td>Abstract Missing</td>\n",
       "      <td>394\\n\\nSTORING COVARIANCE BY THE ASSOCIATIVE\\n...</td>\n",
       "    </tr>\n",
       "    <tr>\n",
       "      <th>3</th>\n",
       "      <td>1000</td>\n",
       "      <td>1994</td>\n",
       "      <td>Bayesian Query Construction for Neural Network...</td>\n",
       "      <td>NaN</td>\n",
       "      <td>1000-bayesian-query-construction-for-neural-ne...</td>\n",
       "      <td>Abstract Missing</td>\n",
       "      <td>Bayesian Query Construction for Neural\\nNetwor...</td>\n",
       "    </tr>\n",
       "    <tr>\n",
       "      <th>4</th>\n",
       "      <td>1001</td>\n",
       "      <td>1994</td>\n",
       "      <td>Neural Network Ensembles, Cross Validation, an...</td>\n",
       "      <td>NaN</td>\n",
       "      <td>1001-neural-network-ensembles-cross-validation...</td>\n",
       "      <td>Abstract Missing</td>\n",
       "      <td>Neural Network Ensembles, Cross\\nValidation, a...</td>\n",
       "    </tr>\n",
       "  </tbody>\n",
       "</table>\n",
       "</div>"
      ],
      "text/plain": [
       "     id  year                                              title event_type  \\\n",
       "0     1  1987  Self-Organization of Associative Database and ...        NaN   \n",
       "1    10  1987  A Mean Field Theory of Layer IV of Visual Cort...        NaN   \n",
       "2   100  1988  Storing Covariance by the Associative Long-Ter...        NaN   \n",
       "3  1000  1994  Bayesian Query Construction for Neural Network...        NaN   \n",
       "4  1001  1994  Neural Network Ensembles, Cross Validation, an...        NaN   \n",
       "\n",
       "                                            pdf_name          abstract  \\\n",
       "0  1-self-organization-of-associative-database-an...  Abstract Missing   \n",
       "1  10-a-mean-field-theory-of-layer-iv-of-visual-c...  Abstract Missing   \n",
       "2  100-storing-covariance-by-the-associative-long...  Abstract Missing   \n",
       "3  1000-bayesian-query-construction-for-neural-ne...  Abstract Missing   \n",
       "4  1001-neural-network-ensembles-cross-validation...  Abstract Missing   \n",
       "\n",
       "                                          paper_text  \n",
       "0  767\\n\\nSELF-ORGANIZATION OF ASSOCIATIVE DATABA...  \n",
       "1  683\\n\\nA MEAN FIELD THEORY OF LAYER IV OF VISU...  \n",
       "2  394\\n\\nSTORING COVARIANCE BY THE ASSOCIATIVE\\n...  \n",
       "3  Bayesian Query Construction for Neural\\nNetwor...  \n",
       "4  Neural Network Ensembles, Cross\\nValidation, a...  "
      ]
     },
     "execution_count": 3,
     "metadata": {},
     "output_type": "execute_result"
    }
   ],
   "source": [
    "df = pd.read_csv(\"../input/nips-papers/papers.csv\") # .sample(100).reset_index(drop=True)\n",
    "\n",
    "df.head()"
   ]
  },
  {
   "cell_type": "code",
   "execution_count": 4,
   "id": "cd77b5bb",
   "metadata": {
    "execution": {
     "iopub.execute_input": "2022-03-06T09:13:11.614104Z",
     "iopub.status.busy": "2022-03-06T09:13:11.613446Z",
     "iopub.status.idle": "2022-03-06T09:19:16.897616Z",
     "shell.execute_reply": "2022-03-06T09:19:16.898134Z",
     "shell.execute_reply.started": "2022-03-06T07:45:30.228856Z"
    },
    "papermill": {
     "duration": 365.316352,
     "end_time": "2022-03-06T09:19:16.898331",
     "exception": false,
     "start_time": "2022-03-06T09:13:11.581979",
     "status": "completed"
    },
    "tags": []
   },
   "outputs": [],
   "source": [
    "# clean text col\n",
    "df['paper_text'] = df['paper_text'].apply(get_cleaned_text)\n",
    "\n",
    "# calc word and char count\n",
    "df['word_count'] = df['paper_text'].apply(lambda x: len(x.split()))\n",
    "df['char_count'] = df['paper_text'].apply(len)"
   ]
  },
  {
   "cell_type": "code",
   "execution_count": 5,
   "id": "e64dec62",
   "metadata": {
    "execution": {
     "iopub.execute_input": "2022-03-06T09:19:16.959567Z",
     "iopub.status.busy": "2022-03-06T09:19:16.958953Z",
     "iopub.status.idle": "2022-03-06T09:19:17.252647Z",
     "shell.execute_reply": "2022-03-06T09:19:17.253151Z",
     "shell.execute_reply.started": "2022-03-06T07:45:31.357432Z"
    },
    "papermill": {
     "duration": 0.325223,
     "end_time": "2022-03-06T09:19:17.253316",
     "exception": false,
     "start_time": "2022-03-06T09:19:16.928093",
     "status": "completed"
    },
    "tags": []
   },
   "outputs": [
    {
     "data": {
      "image/png": "[encoded data removed]",
      "text/plain": [
       "<Figure size 432x288 with 1 Axes>"
      ]
     },
     "metadata": {
      "needs_background": "light"
     },
     "output_type": "display_data"
    }
   ],
   "source": [
    "plt.hist(df['word_count'].values, bins=50);"
   ]
  },
  {
   "cell_type": "code",
   "execution_count": 6,
   "id": "9d9ee445",
   "metadata": {
    "execution": {
     "iopub.execute_input": "2022-03-06T09:19:17.314333Z",
     "iopub.status.busy": "2022-03-06T09:19:17.313652Z",
     "iopub.status.idle": "2022-03-06T09:19:17.531108Z",
     "shell.execute_reply": "2022-03-06T09:19:17.531592Z",
     "shell.execute_reply.started": "2022-03-06T07:45:31.595694Z"
    },
    "papermill": {
     "duration": 0.249422,
     "end_time": "2022-03-06T09:19:17.531792",
     "exception": false,
     "start_time": "2022-03-06T09:19:17.282370",
     "status": "completed"
    },
    "tags": []
   },
   "outputs": [
    {
     "data": {
      "image/png": "[encoded data removed]",
      "text/plain": [
       "<Figure size 432x288 with 1 Axes>"
      ]
     },
     "metadata": {
      "needs_background": "light"
     },
     "output_type": "display_data"
    }
   ],
   "source": [
    "plt.hist(df['char_count'].values, bins=10);"
   ]
  },
  {
   "cell_type": "code",
   "execution_count": 7,
   "id": "23780c8b",
   "metadata": {
    "execution": {
     "iopub.execute_input": "2022-03-06T09:19:17.594569Z",
     "iopub.status.busy": "2022-03-06T09:19:17.593983Z",
     "iopub.status.idle": "2022-03-06T09:19:27.523192Z",
     "shell.execute_reply": "2022-03-06T09:19:27.523749Z",
     "shell.execute_reply.started": "2022-03-06T07:45:31.742825Z"
    },
    "papermill": {
     "duration": 9.961921,
     "end_time": "2022-03-06T09:19:27.523924",
     "exception": false,
     "start_time": "2022-03-06T09:19:17.562003",
     "status": "completed"
    },
    "tags": []
   },
   "outputs": [],
   "source": [
    "# find top words (based on count)\n",
    "word_count = {}\n",
    "\n",
    "for text in df['paper_text'].tolist():\n",
    "    for word in text.split():\n",
    "        word = word.lower()\n",
    "        word_count[word] = word_count.get(word, 0) + 1\n",
    "\n",
    "word_count = {k: v for k, v in sorted(word_count.items(), key = lambda x: x[1], reverse=True)}"
   ]
  },
  {
   "cell_type": "code",
   "execution_count": 8,
   "id": "8d1d2d28",
   "metadata": {
    "execution": {
     "iopub.execute_input": "2022-03-06T09:19:27.586276Z",
     "iopub.status.busy": "2022-03-06T09:19:27.585623Z",
     "iopub.status.idle": "2022-03-06T09:19:27.845027Z",
     "shell.execute_reply": "2022-03-06T09:19:27.845527Z",
     "shell.execute_reply.started": "2022-03-06T07:45:31.886715Z"
    },
    "papermill": {
     "duration": 0.291842,
     "end_time": "2022-03-06T09:19:27.845686",
     "exception": false,
     "start_time": "2022-03-06T09:19:27.553844",
     "status": "completed"
    },
    "tags": []
   },
   "outputs": [
    {
     "data": {
      "text/plain": [
       "<AxesSubplot:>"
      ]
     },
     "execution_count": 8,
     "metadata": {},
     "output_type": "execute_result"
    },
    {
     "data": {
      "image/png": "[encoded data removed]",
      "text/plain": [
       "<Figure size 720x288 with 1 Axes>"
      ]
     },
     "metadata": {
      "needs_background": "light"
     },
     "output_type": "display_data"
    }
   ],
   "source": [
    "fig, ax = plt.subplots(figsize=(10, 4))\n",
    "sns.barplot(x = list(word_count.keys())[:10], y = list(word_count.values())[:10])"
   ]
  },
  {
   "cell_type": "markdown",
   "id": "0b3c5bd9",
   "metadata": {
    "papermill": {
     "duration": 0.03054,
     "end_time": "2022-03-06T09:19:27.907471",
     "exception": false,
     "start_time": "2022-03-06T09:19:27.876931",
     "status": "completed"
    },
    "tags": []
   },
   "source": [
    "### NMF for Topic Modelling"
   ]
  },
  {
   "cell_type": "code",
   "execution_count": 9,
   "id": "62dcc935",
   "metadata": {
    "execution": {
     "iopub.execute_input": "2022-03-06T09:19:27.977690Z",
     "iopub.status.busy": "2022-03-06T09:19:27.976852Z",
     "iopub.status.idle": "2022-03-06T09:19:27.979788Z",
     "shell.execute_reply": "2022-03-06T09:19:27.979195Z",
     "shell.execute_reply.started": "2022-03-06T07:45:32.092899Z"
    },
    "papermill": {
     "duration": 0.041045,
     "end_time": "2022-03-06T09:19:27.979917",
     "exception": false,
     "start_time": "2022-03-06T09:19:27.938872",
     "status": "completed"
    },
    "tags": []
   },
   "outputs": [],
   "source": [
    "def get_nmf_topics(model, vectorizer, n_top_words):\n",
    "    \"\"\"NMF - topic names\n",
    "        - given the model and vectorizer, return top n topic names\n",
    "    \"\"\"\n",
    "    feat_names = vectorizer.get_feature_names()\n",
    "    \n",
    "    word_dict = {}\n",
    "    \n",
    "    for i in range(num_topics):\n",
    "        words_ids = model.components_[i].argsort()[:-20-1: -1]\n",
    "        words = [feat_names[key] for key in words_ids]\n",
    "        word_dict['Topic # ' + '{:02d}'.format(i+1)] = words\n",
    "    \n",
    "    return pd.DataFrame(word_dict)"
   ]
  },
  {
   "cell_type": "code",
   "execution_count": 10,
   "id": "6632c861",
   "metadata": {
    "execution": {
     "iopub.execute_input": "2022-03-06T09:19:28.047778Z",
     "iopub.status.busy": "2022-03-06T09:19:28.046946Z",
     "iopub.status.idle": "2022-03-06T09:19:28.049614Z",
     "shell.execute_reply": "2022-03-06T09:19:28.049100Z",
     "shell.execute_reply.started": "2022-03-06T07:45:32.102703Z"
    },
    "papermill": {
     "duration": 0.039084,
     "end_time": "2022-03-06T09:19:28.049785",
     "exception": false,
     "start_time": "2022-03-06T09:19:28.010701",
     "status": "completed"
    },
    "tags": []
   },
   "outputs": [],
   "source": [
    "def rank_terms(A, terms):\n",
    "    \"\"\"ranking of topics/terms\n",
    "        - ranking the terms based on the the vectors\n",
    "        - sum over each col\n",
    "        - map weights to the terms\n",
    "        - rank by weights\n",
    "    \"\"\"\n",
    "    sums = A.sum(axis=0)\n",
    "    weights = {}\n",
    "    for col, term in enumerate(terms):\n",
    "        weights[term] = sums[0,col]\n",
    "\n",
    "    return sorted(weights.items(), key=operator.itemgetter(1), reverse=True)"
   ]
  },
  {
   "cell_type": "code",
   "execution_count": 11,
   "id": "9e188868",
   "metadata": {
    "execution": {
     "iopub.execute_input": "2022-03-06T09:19:28.117324Z",
     "iopub.status.busy": "2022-03-06T09:19:28.114278Z",
     "iopub.status.idle": "2022-03-06T09:19:28.120207Z",
     "shell.execute_reply": "2022-03-06T09:19:28.119626Z",
     "shell.execute_reply.started": "2022-03-06T07:45:32.117199Z"
    },
    "papermill": {
     "duration": 0.040194,
     "end_time": "2022-03-06T09:19:28.120338",
     "exception": false,
     "start_time": "2022-03-06T09:19:28.080144",
     "status": "completed"
    },
    "tags": []
   },
   "outputs": [],
   "source": [
    "def get_descriptor(terms, H, topic_index, top):\n",
    "    \"\"\"\n",
    "        - for a topic index (index for H), return top terms\n",
    "    \"\"\"\n",
    "    # reverse sort the values to sort the indices\n",
    "    top_indices = np.argsort(H[topic_index,:] )[::-1]\n",
    "    \n",
    "    # now get the terms corresponding to the top-ranked indices\n",
    "    top_terms = []\n",
    "    for term_index in top_indices[0:top]:\n",
    "        top_terms.append(terms[term_index])\n",
    "        \n",
    "    return top_terms"
   ]
  },
  {
   "cell_type": "code",
   "execution_count": 12,
   "id": "a8e70062",
   "metadata": {
    "execution": {
     "iopub.execute_input": "2022-03-06T09:19:28.190117Z",
     "iopub.status.busy": "2022-03-06T09:19:28.189447Z",
     "iopub.status.idle": "2022-03-06T09:19:28.192435Z",
     "shell.execute_reply": "2022-03-06T09:19:28.191891Z",
     "shell.execute_reply.started": "2022-03-06T07:45:32.127803Z"
    },
    "papermill": {
     "duration": 0.041481,
     "end_time": "2022-03-06T09:19:28.192565",
     "exception": false,
     "start_time": "2022-03-06T09:19:28.151084",
     "status": "completed"
    },
    "tags": []
   },
   "outputs": [],
   "source": [
    "def calculate_coherence( w2v_model, term_rankings ):\n",
    "    overall_coherence = 0.0\n",
    "    for topic_index in range(len(term_rankings)):\n",
    "        # check each pair of terms\n",
    "        pair_scores = []\n",
    "        for pair in combinations( term_rankings[topic_index], 2 ):\n",
    "            pair_scores.append(w2v_model.wv.similarity(pair[0], pair[1]))\n",
    "        # get the mean for all pairs in this topic\n",
    "        topic_score = sum(pair_scores) / len(pair_scores)\n",
    "        overall_coherence += topic_score\n",
    "    # get the mean score across all topics\n",
    "    return overall_coherence / len(term_rankings)"
   ]
  },
  {
   "cell_type": "code",
   "execution_count": 13,
   "id": "3101b2bf",
   "metadata": {
    "execution": {
     "iopub.execute_input": "2022-03-06T09:19:28.259918Z",
     "iopub.status.busy": "2022-03-06T09:19:28.259204Z",
     "iopub.status.idle": "2022-03-06T09:19:28.261833Z",
     "shell.execute_reply": "2022-03-06T09:19:28.261299Z",
     "shell.execute_reply.started": "2022-03-06T07:45:32.138791Z"
    },
    "papermill": {
     "duration": 0.038652,
     "end_time": "2022-03-06T09:19:28.261968",
     "exception": false,
     "start_time": "2022-03-06T09:19:28.223316",
     "status": "completed"
    },
    "tags": []
   },
   "outputs": [],
   "source": [
    "def get_top_snippets( all_snippets, W, topic_index, top ):\n",
    "    # reverse sort the values to sort the indices\n",
    "    top_indices = np.argsort( W[:,topic_index] )[::-1]\n",
    "    # now get the snippets corresponding to the top-ranked indices\n",
    "    top_snippets = []\n",
    "    for doc_index in top_indices[0:top]:\n",
    "        top_snippets.append( all_snippets[doc_index] )\n",
    "    return top_snippets"
   ]
  },
  {
   "cell_type": "code",
   "execution_count": 14,
   "id": "1d591eeb",
   "metadata": {
    "execution": {
     "iopub.execute_input": "2022-03-06T09:19:28.326187Z",
     "iopub.status.busy": "2022-03-06T09:19:28.325534Z",
     "iopub.status.idle": "2022-03-06T09:19:28.329043Z",
     "shell.execute_reply": "2022-03-06T09:19:28.329581Z",
     "shell.execute_reply.started": "2022-03-06T07:45:32.151863Z"
    },
    "papermill": {
     "duration": 0.036764,
     "end_time": "2022-03-06T09:19:28.329771",
     "exception": false,
     "start_time": "2022-03-06T09:19:28.293007",
     "status": "completed"
    },
    "tags": []
   },
   "outputs": [],
   "source": [
    "text = df['paper_text'].tolist()"
   ]
  },
  {
   "cell_type": "code",
   "execution_count": 15,
   "id": "b06cce29",
   "metadata": {
    "execution": {
     "iopub.execute_input": "2022-03-06T09:19:28.394079Z",
     "iopub.status.busy": "2022-03-06T09:19:28.393434Z",
     "iopub.status.idle": "2022-03-06T09:19:43.747763Z",
     "shell.execute_reply": "2022-03-06T09:19:43.747149Z",
     "shell.execute_reply.started": "2022-03-06T07:45:32.164675Z"
    },
    "papermill": {
     "duration": 15.387633,
     "end_time": "2022-03-06T09:19:43.747908",
     "exception": false,
     "start_time": "2022-03-06T09:19:28.360275",
     "status": "completed"
    },
    "tags": []
   },
   "outputs": [],
   "source": [
    "# count vec + tfidf transform\n",
    "vectorizer = CountVectorizer(\n",
    "    analyzer='word', \n",
    "    max_features=5000, \n",
    "    stop_words='english', \n",
    "    lowercase=True, \n",
    "    token_pattern='[a-zA-Z\\-][a-zA-Z\\-]{2,}'\n",
    ")\n",
    "\n",
    "x_counts = vectorizer.fit_transform(text)\n",
    "\n",
    "transformer = TfidfTransformer(smooth_idf=False)\n",
    "x_tfidf = transformer.fit_transform(x_counts)"
   ]
  },
  {
   "cell_type": "code",
   "execution_count": 16,
   "id": "9130e10c",
   "metadata": {
    "execution": {
     "iopub.execute_input": "2022-03-06T09:19:43.817257Z",
     "iopub.status.busy": "2022-03-06T09:19:43.816615Z",
     "iopub.status.idle": "2022-03-06T09:19:52.175194Z",
     "shell.execute_reply": "2022-03-06T09:19:52.175995Z",
     "shell.execute_reply.started": "2022-03-06T07:45:32.414719Z"
    },
    "papermill": {
     "duration": 8.396078,
     "end_time": "2022-03-06T09:19:52.176281",
     "exception": false,
     "start_time": "2022-03-06T09:19:43.780203",
     "status": "completed"
    },
    "tags": []
   },
   "outputs": [
    {
     "data": {
      "text/plain": [
       "NMF(init='nndsvd', n_components=10)"
      ]
     },
     "execution_count": 16,
     "metadata": {},
     "output_type": "execute_result"
    }
   ],
   "source": [
    "# normalizing before nmf\n",
    "xtfidf_norm = normalize(x_tfidf, norm='l1', axis=1)\n",
    "\n",
    "model = NMF(n_components=10, init='nndsvd');\n",
    "model.fit(xtfidf_norm)"
   ]
  },
  {
   "cell_type": "code",
   "execution_count": 17,
   "id": "429a9935",
   "metadata": {
    "execution": {
     "iopub.execute_input": "2022-03-06T09:19:52.295101Z",
     "iopub.status.busy": "2022-03-06T09:19:52.294123Z",
     "iopub.status.idle": "2022-03-06T09:19:52.318636Z",
     "shell.execute_reply": "2022-03-06T09:19:52.319309Z",
     "shell.execute_reply.started": "2022-03-06T07:45:32.754367Z"
    },
    "papermill": {
     "duration": 0.084291,
     "end_time": "2022-03-06T09:19:52.319539",
     "exception": false,
     "start_time": "2022-03-06T09:19:52.235248",
     "status": "completed"
    },
    "tags": []
   },
   "outputs": [
    {
     "name": "stderr",
     "output_type": "stream",
     "text": [
      "/opt/conda/lib/python3.7/site-packages/sklearn/utils/deprecation.py:87: FutureWarning: Function get_feature_names is deprecated; get_feature_names is deprecated in 1.0 and will be removed in 1.2. Please use get_feature_names_out instead.\n",
      "  warnings.warn(msg, category=FutureWarning)\n"
     ]
    },
    {
     "data": {
      "text/html": [
       "<div>\n",
       "<style scoped>\n",
       "    .dataframe tbody tr th:only-of-type {\n",
       "        vertical-align: middle;\n",
       "    }\n",
       "\n",
       "    .dataframe tbody tr th {\n",
       "        vertical-align: top;\n",
       "    }\n",
       "\n",
       "    .dataframe thead th {\n",
       "        text-align: right;\n",
       "    }\n",
       "</style>\n",
       "<table border=\"1\" class=\"dataframe\">\n",
       "  <thead>\n",
       "    <tr style=\"text-align: right;\">\n",
       "      <th></th>\n",
       "      <th>Topic # 01</th>\n",
       "      <th>Topic # 02</th>\n",
       "      <th>Topic # 03</th>\n",
       "      <th>Topic # 04</th>\n",
       "      <th>Topic # 05</th>\n",
       "      <th>Topic # 06</th>\n",
       "      <th>Topic # 07</th>\n",
       "      <th>Topic # 08</th>\n",
       "      <th>Topic # 09</th>\n",
       "      <th>Topic # 10</th>\n",
       "    </tr>\n",
       "  </thead>\n",
       "  <tbody>\n",
       "    <tr>\n",
       "      <th>0</th>\n",
       "      <td>model</td>\n",
       "      <td>neuron</td>\n",
       "      <td>score</td>\n",
       "      <td>mab</td>\n",
       "      <td>policy</td>\n",
       "      <td>image</td>\n",
       "      <td>hot</td>\n",
       "      <td>network</td>\n",
       "      <td>algorithm</td>\n",
       "      <td>acl</td>\n",
       "    </tr>\n",
       "    <tr>\n",
       "      <th>1</th>\n",
       "      <td>distribution</td>\n",
       "      <td>spike</td>\n",
       "      <td>ranking</td>\n",
       "      <td>arm</td>\n",
       "      <td>action</td>\n",
       "      <td>object</td>\n",
       "      <td>log</td>\n",
       "      <td>layer</td>\n",
       "      <td>kernel</td>\n",
       "      <td>act</td>\n",
       "    </tr>\n",
       "    <tr>\n",
       "      <th>2</th>\n",
       "      <td>data</td>\n",
       "      <td>cell</td>\n",
       "      <td>annotator</td>\n",
       "      <td>bandit</td>\n",
       "      <td>reward</td>\n",
       "      <td>feature</td>\n",
       "      <td>bound</td>\n",
       "      <td>unit</td>\n",
       "      <td>bound</td>\n",
       "      <td>amp</td>\n",
       "    </tr>\n",
       "    <tr>\n",
       "      <th>3</th>\n",
       "      <td>posterior</td>\n",
       "      <td>stimulus</td>\n",
       "      <td>feature</td>\n",
       "      <td>regret</td>\n",
       "      <td>agent</td>\n",
       "      <td>pixel</td>\n",
       "      <td>regret</td>\n",
       "      <td>input</td>\n",
       "      <td>matrix</td>\n",
       "      <td>kxt</td>\n",
       "    </tr>\n",
       "    <tr>\n",
       "      <th>4</th>\n",
       "      <td>inference</td>\n",
       "      <td>synaptic</td>\n",
       "      <td>sentence</td>\n",
       "      <td>ucb</td>\n",
       "      <td>state</td>\n",
       "      <td>model</td>\n",
       "      <td>arm</td>\n",
       "      <td>training</td>\n",
       "      <td>function</td>\n",
       "      <td>den</td>\n",
       "    </tr>\n",
       "  </tbody>\n",
       "</table>\n",
       "</div>"
      ],
      "text/plain": [
       "     Topic # 01 Topic # 02 Topic # 03 Topic # 04 Topic # 05 Topic # 06  \\\n",
       "0         model     neuron      score        mab     policy      image   \n",
       "1  distribution      spike    ranking        arm     action     object   \n",
       "2          data       cell  annotator     bandit     reward    feature   \n",
       "3     posterior   stimulus    feature     regret      agent      pixel   \n",
       "4     inference   synaptic   sentence        ucb      state      model   \n",
       "\n",
       "  Topic # 07 Topic # 08 Topic # 09 Topic # 10  \n",
       "0        hot    network  algorithm        acl  \n",
       "1        log      layer     kernel        act  \n",
       "2      bound       unit      bound        amp  \n",
       "3     regret      input     matrix        kxt  \n",
       "4        arm   training   function        den  "
      ]
     },
     "execution_count": 17,
     "metadata": {},
     "output_type": "execute_result"
    }
   ],
   "source": [
    "# get top 10 topics for each sample\n",
    "\n",
    "num_topics = 10\n",
    "nmf_df = get_nmf_topics(model, vectorizer, num_topics)\n",
    "nmf_df.head()"
   ]
  },
  {
   "cell_type": "code",
   "execution_count": 18,
   "id": "faf53351",
   "metadata": {
    "execution": {
     "iopub.execute_input": "2022-03-06T09:19:52.387175Z",
     "iopub.status.busy": "2022-03-06T09:19:52.386553Z",
     "iopub.status.idle": "2022-03-06T09:19:52.389520Z",
     "shell.execute_reply": "2022-03-06T09:19:52.390082Z",
     "shell.execute_reply.started": "2022-03-06T07:45:32.794587Z"
    },
    "papermill": {
     "duration": 0.037753,
     "end_time": "2022-03-06T09:19:52.390242",
     "exception": false,
     "start_time": "2022-03-06T09:19:52.352489",
     "status": "completed"
    },
    "tags": []
   },
   "outputs": [],
   "source": [
    "# raw_doc = [i.strip().lower().split() for i in text]"
   ]
  },
  {
   "cell_type": "code",
   "execution_count": 19,
   "id": "a2ccc8c3",
   "metadata": {
    "execution": {
     "iopub.execute_input": "2022-03-06T09:19:52.538802Z",
     "iopub.status.busy": "2022-03-06T09:19:52.501405Z",
     "iopub.status.idle": "2022-03-06T09:20:11.055851Z",
     "shell.execute_reply": "2022-03-06T09:20:11.054876Z",
     "shell.execute_reply.started": "2022-03-06T07:45:32.847529Z"
    },
    "papermill": {
     "duration": 18.633741,
     "end_time": "2022-03-06T09:20:11.056009",
     "exception": false,
     "start_time": "2022-03-06T09:19:52.422268",
     "status": "completed"
    },
    "tags": []
   },
   "outputs": [],
   "source": [
    "vectorizer = TfidfVectorizer(stop_words=stopwords, min_df = 20)\n",
    "\n",
    "A = vectorizer.fit_transform(text)\n",
    "terms = vectorizer.get_feature_names_out()"
   ]
  },
  {
   "cell_type": "code",
   "execution_count": 20,
   "id": "f4d071dd",
   "metadata": {
    "execution": {
     "iopub.execute_input": "2022-03-06T09:20:11.124598Z",
     "iopub.status.busy": "2022-03-06T09:20:11.123983Z",
     "iopub.status.idle": "2022-03-06T09:20:11.172869Z",
     "shell.execute_reply": "2022-03-06T09:20:11.172283Z",
     "shell.execute_reply.started": "2022-03-06T07:48:57.7333Z"
    },
    "papermill": {
     "duration": 0.084496,
     "end_time": "2022-03-06T09:20:11.173014",
     "exception": false,
     "start_time": "2022-03-06T09:20:11.088518",
     "status": "completed"
    },
    "tags": []
   },
   "outputs": [
    {
     "name": "stdout",
     "output_type": "stream",
     "text": [
      "01 - model (389.07)\n",
      "02 - algorithm (307.76)\n",
      "03 - learning (278.09)\n",
      "04 - network (275.23)\n",
      "05 - data (256.66)\n",
      "06 - function (251.73)\n",
      "07 - set (218.86)\n",
      "08 - image (207.37)\n",
      "09 - method (195.40)\n",
      "10 - problem (191.46)\n"
     ]
    }
   ],
   "source": [
    "# ranking terms based on vectorized outpout\n",
    "ranking = rank_terms(A, terms)\n",
    "\n",
    "for i, pair in enumerate(ranking[0: 10]):\n",
    "    print(\"%02d - %s (%.2f)\" % (i+1, pair[0], pair[1]))"
   ]
  },
  {
   "cell_type": "code",
   "execution_count": 21,
   "id": "83c8b062",
   "metadata": {
    "execution": {
     "iopub.execute_input": "2022-03-06T09:20:11.244867Z",
     "iopub.status.busy": "2022-03-06T09:20:11.244201Z",
     "iopub.status.idle": "2022-03-06T09:20:33.101947Z",
     "shell.execute_reply": "2022-03-06T09:20:33.103287Z",
     "shell.execute_reply.started": "2022-03-06T07:45:33.161401Z"
    },
    "papermill": {
     "duration": 21.897276,
     "end_time": "2022-03-06T09:20:33.103568",
     "exception": false,
     "start_time": "2022-03-06T09:20:11.206292",
     "status": "completed"
    },
    "tags": []
   },
   "outputs": [
    {
     "name": "stderr",
     "output_type": "stream",
     "text": [
      "/opt/conda/lib/python3.7/site-packages/sklearn/decomposition/_nmf.py:1641: ConvergenceWarning: Maximum number of iterations 200 reached. Increase it to improve convergence.\n",
      "  ConvergenceWarning,\n"
     ]
    }
   ],
   "source": [
    "k = 10\n",
    "model = NMF(init=\"nndsvd\", n_components=k ) \n",
    "\n",
    "W = model.fit_transform(A)\n",
    "H = model.components_"
   ]
  },
  {
   "cell_type": "code",
   "execution_count": 22,
   "id": "cfaf6e65",
   "metadata": {
    "execution": {
     "iopub.execute_input": "2022-03-06T09:20:33.228857Z",
     "iopub.status.busy": "2022-03-06T09:20:33.227902Z",
     "iopub.status.idle": "2022-03-06T09:20:33.243671Z",
     "shell.execute_reply": "2022-03-06T09:20:33.244318Z",
     "shell.execute_reply.started": "2022-03-06T07:45:33.463482Z"
    },
    "papermill": {
     "duration": 0.078326,
     "end_time": "2022-03-06T09:20:33.244487",
     "exception": false,
     "start_time": "2022-03-06T09:20:33.166161",
     "status": "completed"
    },
    "tags": []
   },
   "outputs": [
    {
     "name": "stdout",
     "output_type": "stream",
     "text": [
      "Topic 01: regret, bound, algorithm, loss, xt, bandit, learning, function, theorem, online\n",
      "Topic 02: network, layer, unit, input, training, weight, neural, output, hidden, learning\n",
      "Topic 03: policy, action, reward, state, agent, reinforcement, learning, mdp, value, trajectory\n",
      "Topic 04: image, object, feature, model, pixel, visual, patch, scene, face, segmentation\n",
      "Topic 05: model, distribution, data, posterior, gaussian, likelihood, bayesian, variational, prior, inference\n",
      "Topic 06: neuron, spike, stimulus, cell, synaptic, response, firing, activity, circuit, time\n",
      "Topic 07: graph, node, tree, cluster, clustering, edge, algorithm, vertex, set, partition\n",
      "Topic 08: kernel, svm, feature, xi, data, classifier, classification, learning, training, function\n",
      "Topic 09: matrix, rank, algorithm, norm, sparse, problem, method, convex, tensor, optimization\n",
      "Topic 10: topic, word, document, model, lda, latent, dirichlet, language, label, corpus\n"
     ]
    }
   ],
   "source": [
    "descriptors = []\n",
    "for topic_index in range(k):\n",
    "    descriptors.append(get_descriptor(terms, H, topic_index, 10))\n",
    "    str_descriptor = \", \".join( descriptors[topic_index])\n",
    "    print(\"Topic %02d: %s\" % ( topic_index+1, str_descriptor))"
   ]
  },
  {
   "cell_type": "code",
   "execution_count": 23,
   "id": "7776de3d",
   "metadata": {
    "execution": {
     "iopub.execute_input": "2022-03-06T09:20:33.316697Z",
     "iopub.status.busy": "2022-03-06T09:20:33.315779Z",
     "iopub.status.idle": "2022-03-06T09:23:45.086579Z",
     "shell.execute_reply": "2022-03-06T09:23:45.087740Z",
     "shell.execute_reply.started": "2022-03-06T07:45:33.475866Z"
    },
    "papermill": {
     "duration": 191.809011,
     "end_time": "2022-03-06T09:23:45.088031",
     "exception": false,
     "start_time": "2022-03-06T09:20:33.279020",
     "status": "completed"
    },
    "tags": []
   },
   "outputs": [
    {
     "name": "stdout",
     "output_type": "stream",
     "text": [
      "Applying NMF for k=2 ...\n",
      "Applying NMF for k=3 ...\n",
      "Applying NMF for k=4 ...\n",
      "Applying NMF for k=5 ...\n",
      "Applying NMF for k=6 ...\n",
      "Applying NMF for k=7 ...\n",
      "Applying NMF for k=8 ...\n",
      "Applying NMF for k=9 ...\n"
     ]
    },
    {
     "name": "stderr",
     "output_type": "stream",
     "text": [
      "/opt/conda/lib/python3.7/site-packages/sklearn/decomposition/_nmf.py:1641: ConvergenceWarning: Maximum number of iterations 200 reached. Increase it to improve convergence.\n",
      "  ConvergenceWarning,\n"
     ]
    },
    {
     "name": "stdout",
     "output_type": "stream",
     "text": [
      "Applying NMF for k=10 ...\n"
     ]
    },
    {
     "name": "stderr",
     "output_type": "stream",
     "text": [
      "/opt/conda/lib/python3.7/site-packages/sklearn/decomposition/_nmf.py:1641: ConvergenceWarning: Maximum number of iterations 200 reached. Increase it to improve convergence.\n",
      "  ConvergenceWarning,\n"
     ]
    },
    {
     "name": "stdout",
     "output_type": "stream",
     "text": [
      "Applying NMF for k=11 ...\n",
      "Applying NMF for k=12 ...\n",
      "Applying NMF for k=13 ...\n",
      "Applying NMF for k=14 ...\n"
     ]
    },
    {
     "name": "stderr",
     "output_type": "stream",
     "text": [
      "/opt/conda/lib/python3.7/site-packages/sklearn/decomposition/_nmf.py:1641: ConvergenceWarning: Maximum number of iterations 200 reached. Increase it to improve convergence.\n",
      "  ConvergenceWarning,\n"
     ]
    },
    {
     "name": "stdout",
     "output_type": "stream",
     "text": [
      "Applying NMF for k=15 ...\n"
     ]
    }
   ],
   "source": [
    "kmin, kmax = 2, 15\n",
    "from sklearn import decomposition\n",
    "topic_models = []\n",
    "\n",
    "# try each value of k\n",
    "for k in range(kmin, kmax + 1):\n",
    "    \n",
    "    print(\"Applying NMF for k=%d ...\" % k )\n",
    "    model = decomposition.NMF( init=\"nndsvd\", n_components=k ) \n",
    "    \n",
    "    W = model.fit_transform( A )\n",
    "    H = model.components_\n",
    "    \n",
    "    # store for later\n",
    "    topic_models.append((k,W,H))"
   ]
  },
  {
   "cell_type": "code",
   "execution_count": 24,
   "id": "fa3f7712",
   "metadata": {
    "execution": {
     "iopub.execute_input": "2022-03-06T09:23:45.230209Z",
     "iopub.status.busy": "2022-03-06T09:23:45.229369Z",
     "iopub.status.idle": "2022-03-06T09:36:11.291439Z",
     "shell.execute_reply": "2022-03-06T09:36:11.290686Z",
     "shell.execute_reply.started": "2022-03-06T07:45:34.560905Z"
    },
    "papermill": {
     "duration": 746.12917,
     "end_time": "2022-03-06T09:36:11.291594",
     "exception": false,
     "start_time": "2022-03-06T09:23:45.162424",
     "status": "completed"
    },
    "tags": []
   },
   "outputs": [
    {
     "name": "stdout",
     "output_type": "stream",
     "text": [
      "Building Word2Vec model ...\n",
      "Building Word2Vec model ...\n",
      "Building Word2Vec model ...\n",
      "Building Word2Vec model ...\n",
      "Building Word2Vec model ...\n",
      "Building Word2Vec model ...\n"
     ]
    }
   ],
   "source": [
    "class TokenGenerator:\n",
    "    def __init__( self, documents, stopwords ):\n",
    "        self.documents = documents\n",
    "        self.stopwords = stopwords\n",
    "        self.tokenizer = re.compile( r\"(?u)\\b\\w\\w+\\b\" )\n",
    "\n",
    "    def __iter__( self ):\n",
    "        print(\"Building Word2Vec model ...\")\n",
    "        for doc in self.documents:\n",
    "            tokens = []\n",
    "            for tok in self.tokenizer.findall(doc):\n",
    "                if tok in self.stopwords:\n",
    "                    tokens.append( \"<stopword>\" )\n",
    "                elif len(tok) >= 2:\n",
    "                    tokens.append( tok )\n",
    "            yield tokens\n",
    "            \n",
    "import gensim\n",
    "docgen = TokenGenerator(text, stopwords)\n",
    "w2v_model = gensim.models.Word2Vec(docgen, vector_size=500, min_count=20, sg=1)"
   ]
  },
  {
   "cell_type": "code",
   "execution_count": 25,
   "id": "4d7322fd",
   "metadata": {
    "execution": {
     "iopub.execute_input": "2022-03-06T09:36:11.384452Z",
     "iopub.status.busy": "2022-03-06T09:36:11.383815Z",
     "iopub.status.idle": "2022-03-06T09:36:11.666322Z",
     "shell.execute_reply": "2022-03-06T09:36:11.667160Z",
     "shell.execute_reply.started": "2022-03-06T07:45:43.161442Z"
    },
    "papermill": {
     "duration": 0.332119,
     "end_time": "2022-03-06T09:36:11.667366",
     "exception": false,
     "start_time": "2022-03-06T09:36:11.335247",
     "status": "completed"
    },
    "tags": []
   },
   "outputs": [
    {
     "name": "stdout",
     "output_type": "stream",
     "text": [
      "K=02: Coherence = 0.2691\n",
      "K=03: Coherence = 0.2720\n",
      "K=04: Coherence = 0.2707\n",
      "K=05: Coherence = 0.2837\n",
      "K=06: Coherence = 0.2773\n",
      "K=07: Coherence = 0.2698\n",
      "K=08: Coherence = 0.2794\n",
      "K=09: Coherence = 0.2733\n",
      "K=10: Coherence = 0.2759\n",
      "K=11: Coherence = 0.2724\n",
      "K=12: Coherence = 0.2716\n",
      "K=13: Coherence = 0.2670\n",
      "K=14: Coherence = 0.2702\n",
      "K=15: Coherence = 0.2745\n"
     ]
    }
   ],
   "source": [
    "from itertools import combinations\n",
    "k_values = []\n",
    "coherences = []\n",
    "\n",
    "for (k, W, H) in topic_models:\n",
    "    # Get all of the topic descriptors - the term_rankings, based on top 10 terms\n",
    "    term_rankings = []\n",
    "    for topic_index in range(k):\n",
    "        term_rankings.append(get_descriptor(terms, H, topic_index, 10))\n",
    "        \n",
    "    # Now calculate the coherence based on our Word2vec model\n",
    "    k_values.append(k)\n",
    "    coherences.append(calculate_coherence(w2v_model, term_rankings))\n",
    "    \n",
    "    print(\"K=%02d: Coherence = %.4f\" % (k, coherences[-1]))"
   ]
  },
  {
   "cell_type": "code",
   "execution_count": 26,
   "id": "4d1c6237",
   "metadata": {
    "execution": {
     "iopub.execute_input": "2022-03-06T09:36:11.756960Z",
     "iopub.status.busy": "2022-03-06T09:36:11.756317Z",
     "iopub.status.idle": "2022-03-06T09:36:11.760358Z",
     "shell.execute_reply": "2022-03-06T09:36:11.760848Z",
     "shell.execute_reply.started": "2022-03-06T07:45:43.218692Z"
    },
    "papermill": {
     "duration": 0.050039,
     "end_time": "2022-03-06T09:36:11.761023",
     "exception": false,
     "start_time": "2022-03-06T09:36:11.710984",
     "status": "completed"
    },
    "tags": []
   },
   "outputs": [],
   "source": [
    "ymax = max(coherences)\n",
    "xpos = coherences.index(ymax)\n",
    "best_k = k_values[xpos]\n",
    "k = best_k\n",
    "\n",
    "# get the model that we generated earlier.\n",
    "W = topic_models[k - kmin][1]\n",
    "H = topic_models[k - kmin][2]"
   ]
  },
  {
   "cell_type": "code",
   "execution_count": 27,
   "id": "b86f7376",
   "metadata": {
    "execution": {
     "iopub.execute_input": "2022-03-06T09:36:11.850805Z",
     "iopub.status.busy": "2022-03-06T09:36:11.850146Z",
     "iopub.status.idle": "2022-03-06T09:36:11.862369Z",
     "shell.execute_reply": "2022-03-06T09:36:11.861479Z",
     "shell.execute_reply.started": "2022-03-06T07:45:43.225484Z"
    },
    "papermill": {
     "duration": 0.058644,
     "end_time": "2022-03-06T09:36:11.862554",
     "exception": false,
     "start_time": "2022-03-06T09:36:11.803910",
     "status": "completed"
    },
    "tags": []
   },
   "outputs": [
    {
     "name": "stdout",
     "output_type": "stream",
     "text": [
      "Topic 01: algorithm, kernel, matrix, function, bound, problem, learning, theorem, method, xi\n",
      "Topic 02: neuron, spike, cell, network, stimulus, synaptic, input, response, firing, activity\n",
      "Topic 03: policy, action, reward, state, agent, learning, regret, reinforcement, algorithm, mdp\n",
      "Topic 04: image, network, layer, object, training, feature, learning, model, unit, recognition\n",
      "Topic 05: model, distribution, data, posterior, inference, latent, likelihood, variational, prior, bayesian\n"
     ]
    }
   ],
   "source": [
    "for topic_index in range(k):\n",
    "    descriptor = get_descriptor(terms, H, topic_index, 10)\n",
    "    str_descriptor = \", \".join( descriptor )\n",
    "    print(\"Topic %02d: %s\" % (topic_index + 1, str_descriptor))"
   ]
  }
 ],
 "metadata": {
  "kernelspec": {
   "display_name": "Python 3",
   "language": "python",
   "name": "python3"
  },
  "language_info": {
   "codemirror_mode": {
    "name": "ipython",
    "version": 3
   },
   "file_extension": ".py",
   "mimetype": "text/x-python",
   "name": "python",
   "nbconvert_exporter": "python",
   "pygments_lexer": "ipython3",
   "version": "3.7.12"
  },
  "papermill": {
   "default_parameters": {},
   "duration": 1396.445647,
   "end_time": "2022-03-06T09:36:12.921692",
   "environment_variables": {},
   "exception": null,
   "input_path": "__notebook__.ipynb",
   "output_path": "__notebook__.ipynb",
   "parameters": {},
   "start_time": "2022-03-06T09:12:56.476045",
   "version": "2.3.3"
  }
 },
 "nbformat": 4,
 "nbformat_minor": 5
}
